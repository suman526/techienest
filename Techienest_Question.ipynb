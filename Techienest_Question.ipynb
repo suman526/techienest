{
 "cells": [
  {
   "cell_type": "markdown",
   "metadata": {},
   "source": [
    "## Question 1:\n",
    "\n",
    "L1=[11,21,24,12,18]\n",
    "L2=[14,44,25,37,13]\n",
    "\n",
    "L3=[]\n",
    "\n",
    "For I in range(0,len(l1)):\n",
    "\n",
    "If i%2=0: L3.append(l1[i])\n",
    "\n",
    "For i in range (0,len(l2)):\n",
    "\n",
    "If i%2: L3.append(l2[i]) Print(l3)"
   ]
  },
  {
   "cell_type": "markdown",
   "metadata": {},
   "source": [
    "SOLUTION-->"
   ]
  },
  {
   "cell_type": "code",
   "execution_count": 8,
   "metadata": {},
   "outputs": [
    {
     "name": "stdout",
     "output_type": "stream",
     "text": [
      "[11, 24, 18, 44]\n",
      "[11, 24, 18, 44, 37]\n"
     ]
    }
   ],
   "source": [
    "# counter variable should be same i.e I should be i\n",
    "# l1,l2,l3 should be L1,L2,L3. As l1, l2,l3 is undefined.\n",
    "# If should be if\n",
    "# Print should be print \n",
    "# proper indentation\n",
    "L1=[11,21,24,12,18]                        \n",
    "L2=[14,44,25,37,13]\n",
    "L3=[]\n",
    "for i in range(0,len(L1)):  \n",
    "    if i%2==0:      \n",
    "        L3.append(L1[i])\n",
    "for i in range (0,len(L2)):\n",
    "    if i%2: \n",
    "        L3.append(L2[i]) \n",
    "        print(L3)"
   ]
  },
  {
   "cell_type": "markdown",
   "metadata": {},
   "source": [
    "## QUESTION 2:\n",
    "a,b=input(“enter two numbers”).split()\n",
    "product=a*b print(product)\n",
    "\n",
    "if product>500:\n",
    "\n",
    "return a+b\n",
    "\n",
    "else: return(“hello LnB code is running fine”)\n",
    "\n",
    "SOLUTION --->"
   ]
  },
  {
   "cell_type": "code",
   "execution_count": 10,
   "metadata": {},
   "outputs": [
    {
     "name": "stdout",
     "output_type": "stream",
     "text": [
      "enter two numbers4 5\n",
      "20\n",
      "hello LnB code is running fine\n"
     ]
    }
   ],
   "source": [
    "a,b=input(\"enter two numbers\").split()\n",
    "product=int(a)*int(b) #TypeError: can't multiply sequence by non-int of type 'str'; \n",
    "print(product)\n",
    "if product>500:\n",
    "    print(int(a)+int(b)) # return statement will bring error, so we have used print function; \n",
    "                         #a+b will concatinate, so convert it into int to add \n",
    "else: \n",
    "    print(\"hello LnB code is running fine\")"
   ]
  },
  {
   "cell_type": "code",
   "execution_count": null,
   "metadata": {},
   "outputs": [],
   "source": []
  }
 ],
 "metadata": {
  "kernelspec": {
   "display_name": "Python 3",
   "language": "python",
   "name": "python3"
  },
  "language_info": {
   "codemirror_mode": {
    "name": "ipython",
    "version": 3
   },
   "file_extension": ".py",
   "mimetype": "text/x-python",
   "name": "python",
   "nbconvert_exporter": "python",
   "pygments_lexer": "ipython3",
   "version": "3.8.3"
  }
 },
 "nbformat": 4,
 "nbformat_minor": 4
}
